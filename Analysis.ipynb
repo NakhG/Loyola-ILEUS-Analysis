{
 "cells": [
  {
   "cell_type": "code",
   "execution_count": 68,
   "metadata": {
    "collapsed": true
   },
   "outputs": [],
   "source": [
    "'''\n",
    "Author: Sriram Yarlagadda + George Nakhleh\n",
    "Date Created: 9/12/2016\n",
    "Note: Please use Python 2.7\n",
    "'''\n",
    "import os\n",
    "import numpy as np\n",
    "import pandas as pd\n",
    "import matplotlib.pyplot as plt\n",
    "%matplotlib inline\n",
    "os.chdir('C:\\\\Users\\\\gnakhleh\\\\Documents\\\\Loyola\\\\Spine Ileus') #Set location of home dir here.\n",
    "#os.chdir('/Users/Sriram/Desktop/DePaul/Loyola-ILEUS-Analysis')#location in Mac"
   ]
  },
  {
   "cell_type": "markdown",
   "metadata": {},
   "source": [
    "### Reading the Data"
   ]
  },
  {
   "cell_type": "code",
   "execution_count": 69,
   "metadata": {
    "collapsed": false
   },
   "outputs": [],
   "source": [
    "varLst = ['KEY','SCOLI','LOS','SHORT','LONG','ALIF','PLIF','ileus_NPOA', 'SCOLI_ILEUS','SHORT_ILEUS',\\\n",
    "          'LONG_ILEUS','ALIF_ILEUS','PLIF_ILEUS', 'DIED', 'MI_POA', 'MI_NPOA', 'DVT_POA', 'DVT_NPOA', 'Sepsis_POA', 'Sepsis_NPOA', 'PE_POA', 'PE_NPOA']\n",
    "CAData = pd.read_stata('SPINE_ILEUS_CA.dta', columns=varLst)"
   ]
  },
  {
   "cell_type": "code",
   "execution_count": 70,
   "metadata": {
    "collapsed": false
   },
   "outputs": [],
   "source": [
    "CAData.to_csv('./CAData.csv')"
   ]
  },
  {
   "cell_type": "code",
   "execution_count": 71,
   "metadata": {
    "collapsed": false
   },
   "outputs": [
    {
     "data": {
      "text/plain": [
       "Index([u'KEY', u'SCOLI', u'LOS', u'SHORT', u'LONG', u'ALIF', u'PLIF',\n",
       "       u'ileus_NPOA', u'SCOLI_ILEUS', u'SHORT_ILEUS', u'LONG_ILEUS',\n",
       "       u'ALIF_ILEUS', u'PLIF_ILEUS', u'DIED', u'MI_POA', u'MI_NPOA',\n",
       "       u'DVT_POA', u'DVT_NPOA', u'Sepsis_POA', u'Sepsis_NPOA', u'PE_POA',\n",
       "       u'PE_NPOA'],\n",
       "      dtype='object')"
      ]
     },
     "execution_count": 71,
     "metadata": {},
     "output_type": "execute_result"
    }
   ],
   "source": [
    "CAData.columns"
   ]
  },
  {
   "cell_type": "code",
   "execution_count": 73,
   "metadata": {
    "collapsed": false
   },
   "outputs": [
    {
     "data": {
      "text/plain": [
       "(198557, 22)"
      ]
     },
     "execution_count": 73,
     "metadata": {},
     "output_type": "execute_result"
    }
   ],
   "source": [
    "CAData.shape"
   ]
  },
  {
   "cell_type": "code",
   "execution_count": 74,
   "metadata": {
    "collapsed": false
   },
   "outputs": [
    {
     "data": {
      "text/html": [
       "<div>\n",
       "<table border=\"1\" class=\"dataframe\">\n",
       "  <thead>\n",
       "    <tr style=\"text-align: right;\">\n",
       "      <th></th>\n",
       "      <th>KEY</th>\n",
       "      <th>SCOLI</th>\n",
       "      <th>LOS</th>\n",
       "      <th>SHORT</th>\n",
       "      <th>LONG</th>\n",
       "      <th>ALIF</th>\n",
       "      <th>PLIF</th>\n",
       "      <th>ileus_NPOA</th>\n",
       "      <th>SCOLI_ILEUS</th>\n",
       "      <th>SHORT_ILEUS</th>\n",
       "      <th>...</th>\n",
       "      <th>PLIF_ILEUS</th>\n",
       "      <th>DIED</th>\n",
       "      <th>MI_POA</th>\n",
       "      <th>MI_NPOA</th>\n",
       "      <th>DVT_POA</th>\n",
       "      <th>DVT_NPOA</th>\n",
       "      <th>Sepsis_POA</th>\n",
       "      <th>Sepsis_NPOA</th>\n",
       "      <th>PE_POA</th>\n",
       "      <th>PE_NPOA</th>\n",
       "    </tr>\n",
       "  </thead>\n",
       "  <tbody>\n",
       "    <tr>\n",
       "      <th>count</th>\n",
       "      <td>1.985570e+05</td>\n",
       "      <td>198557.000000</td>\n",
       "      <td>198553.000000</td>\n",
       "      <td>198557.000000</td>\n",
       "      <td>198557.000000</td>\n",
       "      <td>198557.000000</td>\n",
       "      <td>198557.000000</td>\n",
       "      <td>198557.000000</td>\n",
       "      <td>198557.000000</td>\n",
       "      <td>198557.000000</td>\n",
       "      <td>...</td>\n",
       "      <td>198557.000000</td>\n",
       "      <td>198544.000000</td>\n",
       "      <td>198557.000000</td>\n",
       "      <td>198557.000000</td>\n",
       "      <td>198557.000000</td>\n",
       "      <td>198557.000000</td>\n",
       "      <td>198557.000000</td>\n",
       "      <td>198557.000000</td>\n",
       "      <td>198557.0</td>\n",
       "      <td>198557.0</td>\n",
       "    </tr>\n",
       "    <tr>\n",
       "      <th>mean</th>\n",
       "      <td>6.200873e+12</td>\n",
       "      <td>0.870642</td>\n",
       "      <td>4.831481</td>\n",
       "      <td>0.798174</td>\n",
       "      <td>0.211551</td>\n",
       "      <td>0.149327</td>\n",
       "      <td>0.106660</td>\n",
       "      <td>0.026169</td>\n",
       "      <td>0.023409</td>\n",
       "      <td>0.019073</td>\n",
       "      <td>...</td>\n",
       "      <td>0.003984</td>\n",
       "      <td>0.003752</td>\n",
       "      <td>0.000579</td>\n",
       "      <td>0.002770</td>\n",
       "      <td>0.001501</td>\n",
       "      <td>0.003616</td>\n",
       "      <td>0.002090</td>\n",
       "      <td>0.005293</td>\n",
       "      <td>0.0</td>\n",
       "      <td>0.0</td>\n",
       "    </tr>\n",
       "    <tr>\n",
       "      <th>std</th>\n",
       "      <td>1.699881e+08</td>\n",
       "      <td>0.336071</td>\n",
       "      <td>22.353190</td>\n",
       "      <td>0.401497</td>\n",
       "      <td>0.408499</td>\n",
       "      <td>0.355765</td>\n",
       "      <td>0.309005</td>\n",
       "      <td>0.159243</td>\n",
       "      <td>0.151016</td>\n",
       "      <td>0.136434</td>\n",
       "      <td>...</td>\n",
       "      <td>0.062903</td>\n",
       "      <td>0.068153</td>\n",
       "      <td>0.024052</td>\n",
       "      <td>0.052513</td>\n",
       "      <td>0.038685</td>\n",
       "      <td>0.059937</td>\n",
       "      <td>0.045644</td>\n",
       "      <td>0.072438</td>\n",
       "      <td>0.0</td>\n",
       "      <td>0.0</td>\n",
       "    </tr>\n",
       "    <tr>\n",
       "      <th>min</th>\n",
       "      <td>6.200610e+12</td>\n",
       "      <td>0.000000</td>\n",
       "      <td>-6666.000000</td>\n",
       "      <td>0.000000</td>\n",
       "      <td>0.000000</td>\n",
       "      <td>0.000000</td>\n",
       "      <td>0.000000</td>\n",
       "      <td>0.000000</td>\n",
       "      <td>0.000000</td>\n",
       "      <td>0.000000</td>\n",
       "      <td>...</td>\n",
       "      <td>0.000000</td>\n",
       "      <td>-9.000000</td>\n",
       "      <td>0.000000</td>\n",
       "      <td>0.000000</td>\n",
       "      <td>0.000000</td>\n",
       "      <td>0.000000</td>\n",
       "      <td>0.000000</td>\n",
       "      <td>0.000000</td>\n",
       "      <td>0.0</td>\n",
       "      <td>0.0</td>\n",
       "    </tr>\n",
       "    <tr>\n",
       "      <th>25%</th>\n",
       "      <td>6.200713e+12</td>\n",
       "      <td>1.000000</td>\n",
       "      <td>2.000000</td>\n",
       "      <td>1.000000</td>\n",
       "      <td>0.000000</td>\n",
       "      <td>0.000000</td>\n",
       "      <td>0.000000</td>\n",
       "      <td>0.000000</td>\n",
       "      <td>0.000000</td>\n",
       "      <td>0.000000</td>\n",
       "      <td>...</td>\n",
       "      <td>0.000000</td>\n",
       "      <td>0.000000</td>\n",
       "      <td>0.000000</td>\n",
       "      <td>0.000000</td>\n",
       "      <td>0.000000</td>\n",
       "      <td>0.000000</td>\n",
       "      <td>0.000000</td>\n",
       "      <td>0.000000</td>\n",
       "      <td>0.0</td>\n",
       "      <td>0.0</td>\n",
       "    </tr>\n",
       "    <tr>\n",
       "      <th>50%</th>\n",
       "      <td>6.200911e+12</td>\n",
       "      <td>1.000000</td>\n",
       "      <td>3.000000</td>\n",
       "      <td>1.000000</td>\n",
       "      <td>0.000000</td>\n",
       "      <td>0.000000</td>\n",
       "      <td>0.000000</td>\n",
       "      <td>0.000000</td>\n",
       "      <td>0.000000</td>\n",
       "      <td>0.000000</td>\n",
       "      <td>...</td>\n",
       "      <td>0.000000</td>\n",
       "      <td>0.000000</td>\n",
       "      <td>0.000000</td>\n",
       "      <td>0.000000</td>\n",
       "      <td>0.000000</td>\n",
       "      <td>0.000000</td>\n",
       "      <td>0.000000</td>\n",
       "      <td>0.000000</td>\n",
       "      <td>0.0</td>\n",
       "      <td>0.0</td>\n",
       "    </tr>\n",
       "    <tr>\n",
       "      <th>75%</th>\n",
       "      <td>6.201012e+12</td>\n",
       "      <td>1.000000</td>\n",
       "      <td>5.000000</td>\n",
       "      <td>1.000000</td>\n",
       "      <td>0.000000</td>\n",
       "      <td>0.000000</td>\n",
       "      <td>0.000000</td>\n",
       "      <td>0.000000</td>\n",
       "      <td>0.000000</td>\n",
       "      <td>0.000000</td>\n",
       "      <td>...</td>\n",
       "      <td>0.000000</td>\n",
       "      <td>0.000000</td>\n",
       "      <td>0.000000</td>\n",
       "      <td>0.000000</td>\n",
       "      <td>0.000000</td>\n",
       "      <td>0.000000</td>\n",
       "      <td>0.000000</td>\n",
       "      <td>0.000000</td>\n",
       "      <td>0.0</td>\n",
       "      <td>0.0</td>\n",
       "    </tr>\n",
       "    <tr>\n",
       "      <th>max</th>\n",
       "      <td>6.201114e+12</td>\n",
       "      <td>1.000000</td>\n",
       "      <td>358.000000</td>\n",
       "      <td>1.000000</td>\n",
       "      <td>1.000000</td>\n",
       "      <td>1.000000</td>\n",
       "      <td>1.000000</td>\n",
       "      <td>1.000000</td>\n",
       "      <td>1.000000</td>\n",
       "      <td>1.000000</td>\n",
       "      <td>...</td>\n",
       "      <td>1.000000</td>\n",
       "      <td>1.000000</td>\n",
       "      <td>1.000000</td>\n",
       "      <td>1.000000</td>\n",
       "      <td>1.000000</td>\n",
       "      <td>1.000000</td>\n",
       "      <td>1.000000</td>\n",
       "      <td>1.000000</td>\n",
       "      <td>0.0</td>\n",
       "      <td>0.0</td>\n",
       "    </tr>\n",
       "  </tbody>\n",
       "</table>\n",
       "<p>8 rows × 22 columns</p>\n",
       "</div>"
      ],
      "text/plain": [
       "                KEY          SCOLI            LOS          SHORT  \\\n",
       "count  1.985570e+05  198557.000000  198553.000000  198557.000000   \n",
       "mean   6.200873e+12       0.870642       4.831481       0.798174   \n",
       "std    1.699881e+08       0.336071      22.353190       0.401497   \n",
       "min    6.200610e+12       0.000000   -6666.000000       0.000000   \n",
       "25%    6.200713e+12       1.000000       2.000000       1.000000   \n",
       "50%    6.200911e+12       1.000000       3.000000       1.000000   \n",
       "75%    6.201012e+12       1.000000       5.000000       1.000000   \n",
       "max    6.201114e+12       1.000000     358.000000       1.000000   \n",
       "\n",
       "                LONG           ALIF           PLIF     ileus_NPOA  \\\n",
       "count  198557.000000  198557.000000  198557.000000  198557.000000   \n",
       "mean        0.211551       0.149327       0.106660       0.026169   \n",
       "std         0.408499       0.355765       0.309005       0.159243   \n",
       "min         0.000000       0.000000       0.000000       0.000000   \n",
       "25%         0.000000       0.000000       0.000000       0.000000   \n",
       "50%         0.000000       0.000000       0.000000       0.000000   \n",
       "75%         0.000000       0.000000       0.000000       0.000000   \n",
       "max         1.000000       1.000000       1.000000       1.000000   \n",
       "\n",
       "         SCOLI_ILEUS    SHORT_ILEUS    ...        PLIF_ILEUS           DIED  \\\n",
       "count  198557.000000  198557.000000    ...     198557.000000  198544.000000   \n",
       "mean        0.023409       0.019073    ...          0.003984       0.003752   \n",
       "std         0.151016       0.136434    ...          0.062903       0.068153   \n",
       "min         0.000000       0.000000    ...          0.000000      -9.000000   \n",
       "25%         0.000000       0.000000    ...          0.000000       0.000000   \n",
       "50%         0.000000       0.000000    ...          0.000000       0.000000   \n",
       "75%         0.000000       0.000000    ...          0.000000       0.000000   \n",
       "max         1.000000       1.000000    ...          1.000000       1.000000   \n",
       "\n",
       "              MI_POA        MI_NPOA        DVT_POA       DVT_NPOA  \\\n",
       "count  198557.000000  198557.000000  198557.000000  198557.000000   \n",
       "mean        0.000579       0.002770       0.001501       0.003616   \n",
       "std         0.024052       0.052513       0.038685       0.059937   \n",
       "min         0.000000       0.000000       0.000000       0.000000   \n",
       "25%         0.000000       0.000000       0.000000       0.000000   \n",
       "50%         0.000000       0.000000       0.000000       0.000000   \n",
       "75%         0.000000       0.000000       0.000000       0.000000   \n",
       "max         1.000000       1.000000       1.000000       1.000000   \n",
       "\n",
       "          Sepsis_POA    Sepsis_NPOA    PE_POA   PE_NPOA  \n",
       "count  198557.000000  198557.000000  198557.0  198557.0  \n",
       "mean        0.002090       0.005293       0.0       0.0  \n",
       "std         0.045644       0.072438       0.0       0.0  \n",
       "min         0.000000       0.000000       0.0       0.0  \n",
       "25%         0.000000       0.000000       0.0       0.0  \n",
       "50%         0.000000       0.000000       0.0       0.0  \n",
       "75%         0.000000       0.000000       0.0       0.0  \n",
       "max         1.000000       1.000000       0.0       0.0  \n",
       "\n",
       "[8 rows x 22 columns]"
      ]
     },
     "execution_count": 74,
     "metadata": {},
     "output_type": "execute_result"
    }
   ],
   "source": [
    "CAData.describe()  #note that there are no patients with PE"
   ]
  },
  {
   "cell_type": "markdown",
   "metadata": {},
   "source": [
    "### Data Preprocessing"
   ]
  },
  {
   "cell_type": "code",
   "execution_count": 75,
   "metadata": {
    "collapsed": false
   },
   "outputs": [
    {
     "data": {
      "text/plain": [
       "array([0, 0, 2, 0, 0, 0, 0, 0, 0, 0, 0, 0, 0, 2, 0, 0, 0, 0, 0, 0, 0, 0])"
      ]
     },
     "execution_count": 75,
     "metadata": {},
     "output_type": "execute_result"
    }
   ],
   "source": [
    "np.sum(np.array(CAData < 0), 0)"
   ]
  },
  {
   "cell_type": "markdown",
   "metadata": {},
   "source": [
    "As we can see there are only 4 negative values that need to be removed. In addition to this, we also scan for any NaNs:"
   ]
  },
  {
   "cell_type": "code",
   "execution_count": 76,
   "metadata": {
    "collapsed": false
   },
   "outputs": [
    {
     "data": {
      "text/plain": [
       "array([ 0,  0,  4,  0,  0,  0,  0,  0,  0,  0,  0,  0,  0, 13,  0,  0,  0,\n",
       "        0,  0,  0,  0,  0])"
      ]
     },
     "execution_count": 76,
     "metadata": {},
     "output_type": "execute_result"
    }
   ],
   "source": [
    "np.sum(np.array(pd.isnull(CAData)),0)"
   ]
  },
  {
   "cell_type": "markdown",
   "metadata": {},
   "source": [
    "There are 17 NaNs. We proceed to clean the data:"
   ]
  },
  {
   "cell_type": "code",
   "execution_count": 77,
   "metadata": {
    "collapsed": false
   },
   "outputs": [],
   "source": [
    "for feature in CAData.columns: \n",
    "    CAData = CAData[CAData[feature] >= 0]"
   ]
  },
  {
   "cell_type": "code",
   "execution_count": 78,
   "metadata": {
    "collapsed": false
   },
   "outputs": [
    {
     "data": {
      "text/plain": [
       "(198536, 22)"
      ]
     },
     "execution_count": 78,
     "metadata": {},
     "output_type": "execute_result"
    }
   ],
   "source": [
    "CAData.shape"
   ]
  },
  {
   "cell_type": "code",
   "execution_count": 79,
   "metadata": {
    "collapsed": true
   },
   "outputs": [],
   "source": [
    "CAData.to_csv('./CAData_reduced.csv') "
   ]
  },
  {
   "cell_type": "markdown",
   "metadata": {},
   "source": [
    "### Answers to Questions"
   ]
  },
  {
   "cell_type": "markdown",
   "metadata": {},
   "source": [
    "#### 1) Is there higher rate of ILEUS for patients that undergo ALIF?\n",
    "\n",
    "We answer this question by looking at the ALIF and ileus_NPOA variables:"
   ]
  },
  {
   "cell_type": "code",
   "execution_count": 12,
   "metadata": {
    "collapsed": false
   },
   "outputs": [
    {
     "data": {
      "text/html": [
       "<div>\n",
       "<table border=\"1\" class=\"dataframe\">\n",
       "  <thead>\n",
       "    <tr style=\"text-align: right;\">\n",
       "      <th>ileus_NPOA</th>\n",
       "      <th>0.0</th>\n",
       "      <th>1.0</th>\n",
       "    </tr>\n",
       "    <tr>\n",
       "      <th>ALIF</th>\n",
       "      <th></th>\n",
       "      <th></th>\n",
       "    </tr>\n",
       "  </thead>\n",
       "  <tbody>\n",
       "    <tr>\n",
       "      <th>0.0</th>\n",
       "      <td>166023</td>\n",
       "      <td>2866</td>\n",
       "    </tr>\n",
       "    <tr>\n",
       "      <th>1.0</th>\n",
       "      <td>27318</td>\n",
       "      <td>2329</td>\n",
       "    </tr>\n",
       "  </tbody>\n",
       "</table>\n",
       "</div>"
      ],
      "text/plain": [
       "ileus_NPOA     0.0   1.0\n",
       "ALIF                    \n",
       "0.0         166023  2866\n",
       "1.0          27318  2329"
      ]
     },
     "execution_count": 12,
     "metadata": {},
     "output_type": "execute_result"
    }
   ],
   "source": [
    "ct_ALIF = pd.crosstab(CAData.ALIF, CAData.ileus_NPOA); ct_ALIF#just the counts "
   ]
  },
  {
   "cell_type": "code",
   "execution_count": 13,
   "metadata": {
    "collapsed": false
   },
   "outputs": [
    {
     "data": {
      "text/html": [
       "<div>\n",
       "<table border=\"1\" class=\"dataframe\">\n",
       "  <thead>\n",
       "    <tr style=\"text-align: right;\">\n",
       "      <th>ileus_NPOA</th>\n",
       "      <th>0.0</th>\n",
       "      <th>1.0</th>\n",
       "    </tr>\n",
       "    <tr>\n",
       "      <th>ALIF</th>\n",
       "      <th></th>\n",
       "      <th></th>\n",
       "    </tr>\n",
       "  </thead>\n",
       "  <tbody>\n",
       "    <tr>\n",
       "      <th>0.0</th>\n",
       "      <td>0.858706</td>\n",
       "      <td>0.551684</td>\n",
       "    </tr>\n",
       "    <tr>\n",
       "      <th>1.0</th>\n",
       "      <td>0.141294</td>\n",
       "      <td>0.448316</td>\n",
       "    </tr>\n",
       "  </tbody>\n",
       "</table>\n",
       "</div>"
      ],
      "text/plain": [
       "ileus_NPOA       0.0       1.0\n",
       "ALIF                          \n",
       "0.0         0.858706  0.551684\n",
       "1.0         0.141294  0.448316"
      ]
     },
     "execution_count": 13,
     "metadata": {},
     "output_type": "execute_result"
    }
   ],
   "source": [
    "pd.crosstab(CAData.ALIF, CAData.ileus_NPOA).apply(lambda x: x/x.sum(),0) #The proportions"
   ]
  },
  {
   "cell_type": "code",
   "execution_count": 14,
   "metadata": {
    "collapsed": false
   },
   "outputs": [
    {
     "data": {
      "text/html": [
       "<div>\n",
       "<table border=\"1\" class=\"dataframe\">\n",
       "  <thead>\n",
       "    <tr style=\"text-align: right;\">\n",
       "      <th>ileus_NPOA</th>\n",
       "      <th>0.0</th>\n",
       "      <th>1.0</th>\n",
       "    </tr>\n",
       "    <tr>\n",
       "      <th>ALIF</th>\n",
       "      <th></th>\n",
       "      <th></th>\n",
       "    </tr>\n",
       "  </thead>\n",
       "  <tbody>\n",
       "    <tr>\n",
       "      <th>0.0</th>\n",
       "      <td>0.983030</td>\n",
       "      <td>0.016970</td>\n",
       "    </tr>\n",
       "    <tr>\n",
       "      <th>1.0</th>\n",
       "      <td>0.921442</td>\n",
       "      <td>0.078558</td>\n",
       "    </tr>\n",
       "  </tbody>\n",
       "</table>\n",
       "</div>"
      ],
      "text/plain": [
       "ileus_NPOA       0.0       1.0\n",
       "ALIF                          \n",
       "0.0         0.983030  0.016970\n",
       "1.0         0.921442  0.078558"
      ]
     },
     "execution_count": 14,
     "metadata": {},
     "output_type": "execute_result"
    }
   ],
   "source": [
    "pd.crosstab(CAData.ALIF, CAData.ileus_NPOA).apply(lambda x: x/x.sum(),1) #Proportions view 2: ileus rate, ALIF vs no ALIF"
   ]
  },
  {
   "cell_type": "code",
   "execution_count": 15,
   "metadata": {
    "collapsed": false
   },
   "outputs": [
    {
     "name": "stdout",
     "output_type": "stream",
     "text": [
      "p-value:  0.0\n"
     ]
    }
   ],
   "source": [
    "from scipy import stats\n",
    "# Testing if the difference in proportions is statistically significant using ChiSq\n",
    "p_val = stats.chi2_contingency(ct_ALIF)[1]\n",
    "print \"p-value: \", p_val  "
   ]
  },
  {
   "cell_type": "code",
   "execution_count": 16,
   "metadata": {
    "collapsed": false
   },
   "outputs": [
    {
     "name": "stdout",
     "output_type": "stream",
     "text": [
      "0.0\n"
     ]
    }
   ],
   "source": [
    "#testing the proportion view 2, in case this is more appropriate\n",
    "ct_ALIF_view2 = pd.crosstab(CAData.ileus_NPOA, CAData.ALIF)#just the counts \n",
    "\n",
    "p_val_view2 = stats.chi2_contingency(ct_ALIF_view2)[1]\n",
    "print p_val_view2 "
   ]
  },
  {
   "cell_type": "code",
   "execution_count": 110,
   "metadata": {
    "collapsed": false
   },
   "outputs": [
    {
     "name": "stdout",
     "output_type": "stream",
     "text": [
      "T-test:  Ttest_indResult(statistic=61.857865201740495, pvalue=0.0)\n"
     ]
    }
   ],
   "source": [
    "# T-test:\n",
    "from scipy import stats\n",
    "\n",
    "ttest_results = stats.ttest_ind(CAData[CAData.ALIF == 1.0].ileus_NPOA, CAData[CAData.ALIF != 1.0].ileus_NPOA)\n",
    "\n",
    "print \"T-test: \", ttest_results"
   ]
  },
  {
   "cell_type": "markdown",
   "metadata": {},
   "source": [
    "#### 2) Is there higher rate of ILEUS for patients that undergo PLIF?"
   ]
  },
  {
   "cell_type": "code",
   "execution_count": 17,
   "metadata": {
    "collapsed": false
   },
   "outputs": [
    {
     "data": {
      "text/html": [
       "<div>\n",
       "<table border=\"1\" class=\"dataframe\">\n",
       "  <thead>\n",
       "    <tr style=\"text-align: right;\">\n",
       "      <th>ileus_NPOA</th>\n",
       "      <th>0.0</th>\n",
       "      <th>1.0</th>\n",
       "    </tr>\n",
       "    <tr>\n",
       "      <th>PLIF</th>\n",
       "      <th></th>\n",
       "      <th></th>\n",
       "    </tr>\n",
       "  </thead>\n",
       "  <tbody>\n",
       "    <tr>\n",
       "      <th>0.0</th>\n",
       "      <td>172954</td>\n",
       "      <td>4404</td>\n",
       "    </tr>\n",
       "    <tr>\n",
       "      <th>1.0</th>\n",
       "      <td>20387</td>\n",
       "      <td>791</td>\n",
       "    </tr>\n",
       "  </tbody>\n",
       "</table>\n",
       "</div>"
      ],
      "text/plain": [
       "ileus_NPOA     0.0   1.0\n",
       "PLIF                    \n",
       "0.0         172954  4404\n",
       "1.0          20387   791"
      ]
     },
     "execution_count": 17,
     "metadata": {},
     "output_type": "execute_result"
    }
   ],
   "source": [
    "ct_PLIF = pd.crosstab(CAData.PLIF, CAData.ileus_NPOA); ct_PLIF#just the counts "
   ]
  },
  {
   "cell_type": "code",
   "execution_count": 18,
   "metadata": {
    "collapsed": false
   },
   "outputs": [
    {
     "data": {
      "text/html": [
       "<div>\n",
       "<table border=\"1\" class=\"dataframe\">\n",
       "  <thead>\n",
       "    <tr style=\"text-align: right;\">\n",
       "      <th>ileus_NPOA</th>\n",
       "      <th>0.0</th>\n",
       "      <th>1.0</th>\n",
       "    </tr>\n",
       "    <tr>\n",
       "      <th>PLIF</th>\n",
       "      <th></th>\n",
       "      <th></th>\n",
       "    </tr>\n",
       "  </thead>\n",
       "  <tbody>\n",
       "    <tr>\n",
       "      <th>0.0</th>\n",
       "      <td>0.894554</td>\n",
       "      <td>0.847738</td>\n",
       "    </tr>\n",
       "    <tr>\n",
       "      <th>1.0</th>\n",
       "      <td>0.105446</td>\n",
       "      <td>0.152262</td>\n",
       "    </tr>\n",
       "  </tbody>\n",
       "</table>\n",
       "</div>"
      ],
      "text/plain": [
       "ileus_NPOA       0.0       1.0\n",
       "PLIF                          \n",
       "0.0         0.894554  0.847738\n",
       "1.0         0.105446  0.152262"
      ]
     },
     "execution_count": 18,
     "metadata": {},
     "output_type": "execute_result"
    }
   ],
   "source": [
    "pd.crosstab(CAData.PLIF, CAData.ileus_NPOA).apply(lambda x: x/x.sum(),0)"
   ]
  },
  {
   "cell_type": "code",
   "execution_count": 19,
   "metadata": {
    "collapsed": false
   },
   "outputs": [
    {
     "data": {
      "text/html": [
       "<div>\n",
       "<table border=\"1\" class=\"dataframe\">\n",
       "  <thead>\n",
       "    <tr style=\"text-align: right;\">\n",
       "      <th>PLIF</th>\n",
       "      <th>0.0</th>\n",
       "      <th>1.0</th>\n",
       "    </tr>\n",
       "    <tr>\n",
       "      <th>ileus_NPOA</th>\n",
       "      <th></th>\n",
       "      <th></th>\n",
       "    </tr>\n",
       "  </thead>\n",
       "  <tbody>\n",
       "    <tr>\n",
       "      <th>0.0</th>\n",
       "      <td>172954</td>\n",
       "      <td>20387</td>\n",
       "    </tr>\n",
       "    <tr>\n",
       "      <th>1.0</th>\n",
       "      <td>4404</td>\n",
       "      <td>791</td>\n",
       "    </tr>\n",
       "  </tbody>\n",
       "</table>\n",
       "</div>"
      ],
      "text/plain": [
       "PLIF           0.0    1.0\n",
       "ileus_NPOA               \n",
       "0.0         172954  20387\n",
       "1.0           4404    791"
      ]
     },
     "execution_count": 19,
     "metadata": {},
     "output_type": "execute_result"
    }
   ],
   "source": [
    "#same analysis, flipped\n",
    "ct_PLIF_view2 = pd.crosstab(CAData.ileus_NPOA, CAData.PLIF); ct_PLIF_view2#just the counts"
   ]
  },
  {
   "cell_type": "code",
   "execution_count": 20,
   "metadata": {
    "collapsed": false
   },
   "outputs": [
    {
     "data": {
      "text/html": [
       "<div>\n",
       "<table border=\"1\" class=\"dataframe\">\n",
       "  <thead>\n",
       "    <tr style=\"text-align: right;\">\n",
       "      <th>PLIF</th>\n",
       "      <th>0.0</th>\n",
       "      <th>1.0</th>\n",
       "    </tr>\n",
       "    <tr>\n",
       "      <th>ileus_NPOA</th>\n",
       "      <th></th>\n",
       "      <th></th>\n",
       "    </tr>\n",
       "  </thead>\n",
       "  <tbody>\n",
       "    <tr>\n",
       "      <th>0.0</th>\n",
       "      <td>0.975169</td>\n",
       "      <td>0.96265</td>\n",
       "    </tr>\n",
       "    <tr>\n",
       "      <th>1.0</th>\n",
       "      <td>0.024831</td>\n",
       "      <td>0.03735</td>\n",
       "    </tr>\n",
       "  </tbody>\n",
       "</table>\n",
       "</div>"
      ],
      "text/plain": [
       "PLIF             0.0      1.0\n",
       "ileus_NPOA                   \n",
       "0.0         0.975169  0.96265\n",
       "1.0         0.024831  0.03735"
      ]
     },
     "execution_count": 20,
     "metadata": {},
     "output_type": "execute_result"
    }
   ],
   "source": [
    "pd.crosstab(CAData.ileus_NPOA, CAData.PLIF).apply(lambda x: x/x.sum(),0)"
   ]
  },
  {
   "cell_type": "code",
   "execution_count": 21,
   "metadata": {
    "collapsed": false
   },
   "outputs": [
    {
     "name": "stdout",
     "output_type": "stream",
     "text": [
      "p-value:  5.07870604204e-27\n"
     ]
    }
   ],
   "source": [
    "p_val = stats.chi2_contingency(ct_PLIF)[1]\n",
    "print \"p-value: \", p_val  "
   ]
  },
  {
   "cell_type": "code",
   "execution_count": 22,
   "metadata": {
    "collapsed": false
   },
   "outputs": [
    {
     "name": "stdout",
     "output_type": "stream",
     "text": [
      "p-value:  5.07870604204e-27\n"
     ]
    }
   ],
   "source": [
    "p_val_view2 = stats.chi2_contingency(ct_PLIF_view2)[1]\n",
    "print \"p-value: \", p_val_view2 #odd that this is the same thing"
   ]
  },
  {
   "cell_type": "code",
   "execution_count": 109,
   "metadata": {
    "collapsed": false
   },
   "outputs": [
    {
     "name": "stdout",
     "output_type": "stream",
     "text": [
      "T-test:  Ttest_indResult(statistic=10.79010561924864, pvalue=3.9005952551227336e-27)\n"
     ]
    }
   ],
   "source": [
    "#t-test:\n",
    "\n",
    "ttest_results = stats.ttest_ind(CAData[CAData.PLIF == 1.0].ileus_NPOA, CAData[CAData.PLIF != 1.0].ileus_NPOA)\n",
    "\n",
    "print \"T-test: \", ttest_results\n"
   ]
  },
  {
   "cell_type": "markdown",
   "metadata": {},
   "source": [
    "#### 3) Is there higher rate of ILEUS for patients that undergo ALIF vs PLIF (as past studies have shown)?"
   ]
  },
  {
   "cell_type": "code",
   "execution_count": 81,
   "metadata": {
    "collapsed": false
   },
   "outputs": [
    {
     "data": {
      "text/plain": [
       "(47056, 22)"
      ]
     },
     "execution_count": 81,
     "metadata": {},
     "output_type": "execute_result"
    }
   ],
   "source": [
    "#For this we only look at cases where PLIF or ALIF is 1\n",
    "CADataSub = CAData[(CAData.PLIF == 1) | (CAData.ALIF==1)]; CADataSub.shape #we have 47K cases"
   ]
  },
  {
   "cell_type": "code",
   "execution_count": 82,
   "metadata": {
    "collapsed": false
   },
   "outputs": [
    {
     "data": {
      "text/plain": [
       "3769"
      ]
     },
     "execution_count": 82,
     "metadata": {},
     "output_type": "execute_result"
    }
   ],
   "source": [
    "np.sum(CADataSub.PLIF == CADataSub.ALIF) #however there are 3769 cases where ALIF and PLIF are both True. \n",
    "#Such cases are removed"
   ]
  },
  {
   "cell_type": "code",
   "execution_count": 83,
   "metadata": {
    "collapsed": false
   },
   "outputs": [
    {
     "name": "stderr",
     "output_type": "stream",
     "text": [
      "C:\\Anaconda2\\lib\\site-packages\\ipykernel\\__main__.py:1: UserWarning: Boolean Series key will be reindexed to match DataFrame index.\n",
      "  if __name__ == '__main__':\n"
     ]
    },
    {
     "data": {
      "text/plain": [
       "(43287, 22)"
      ]
     },
     "execution_count": 83,
     "metadata": {},
     "output_type": "execute_result"
    }
   ],
   "source": [
    "CADataSub = CADataSub[(CAData.PLIF + CAData.ALIF) ==1]; CADataSub.shape #all such cases are removed"
   ]
  },
  {
   "cell_type": "code",
   "execution_count": 84,
   "metadata": {
    "collapsed": false
   },
   "outputs": [
    {
     "data": {
      "text/html": [
       "<div>\n",
       "<table border=\"1\" class=\"dataframe\">\n",
       "  <thead>\n",
       "    <tr style=\"text-align: right;\">\n",
       "      <th>PLIF</th>\n",
       "      <th>0.0</th>\n",
       "      <th>1.0</th>\n",
       "    </tr>\n",
       "    <tr>\n",
       "      <th>ALIF</th>\n",
       "      <th></th>\n",
       "      <th></th>\n",
       "    </tr>\n",
       "  </thead>\n",
       "  <tbody>\n",
       "    <tr>\n",
       "      <th>0.0</th>\n",
       "      <td>0</td>\n",
       "      <td>17409</td>\n",
       "    </tr>\n",
       "    <tr>\n",
       "      <th>1.0</th>\n",
       "      <td>25878</td>\n",
       "      <td>0</td>\n",
       "    </tr>\n",
       "  </tbody>\n",
       "</table>\n",
       "</div>"
      ],
      "text/plain": [
       "PLIF    0.0    1.0\n",
       "ALIF              \n",
       "0.0       0  17409\n",
       "1.0   25878      0"
      ]
     },
     "execution_count": 84,
     "metadata": {},
     "output_type": "execute_result"
    }
   ],
   "source": [
    "pd.crosstab(CADataSub.ALIF, CADataSub.PLIF)"
   ]
  },
  {
   "cell_type": "code",
   "execution_count": 91,
   "metadata": {
    "collapsed": false
   },
   "outputs": [
    {
     "data": {
      "text/html": [
       "<div>\n",
       "<table border=\"1\" class=\"dataframe\">\n",
       "  <thead>\n",
       "    <tr>\n",
       "      <th>PLIF</th>\n",
       "      <th>0.0</th>\n",
       "      <th>1.0</th>\n",
       "    </tr>\n",
       "    <tr>\n",
       "      <th>ALIF</th>\n",
       "      <th>1.0</th>\n",
       "      <th>0.0</th>\n",
       "    </tr>\n",
       "    <tr>\n",
       "      <th>ileus_NPOA</th>\n",
       "      <th></th>\n",
       "      <th></th>\n",
       "    </tr>\n",
       "  </thead>\n",
       "  <tbody>\n",
       "    <tr>\n",
       "      <th>0.0</th>\n",
       "      <td>23921</td>\n",
       "      <td>16990</td>\n",
       "    </tr>\n",
       "    <tr>\n",
       "      <th>1.0</th>\n",
       "      <td>1957</td>\n",
       "      <td>419</td>\n",
       "    </tr>\n",
       "  </tbody>\n",
       "</table>\n",
       "</div>"
      ],
      "text/plain": [
       "PLIF          0.0    1.0\n",
       "ALIF          1.0    0.0\n",
       "ileus_NPOA              \n",
       "0.0         23921  16990\n",
       "1.0          1957    419"
      ]
     },
     "execution_count": 91,
     "metadata": {},
     "output_type": "execute_result"
    }
   ],
   "source": [
    "# We now look at a contingency table for both these cases\n",
    "ct_PvA = pd.crosstab(CADataSub.ileus_NPOA, [CADataSub.PLIF, CADataSub.ALIF]); ct_PvA#just the counts \n",
    "# We only need to compare based on one of the columns since PLIF == 0 would mean ALIF == 1 anyway"
   ]
  },
  {
   "cell_type": "code",
   "execution_count": 87,
   "metadata": {
    "collapsed": false
   },
   "outputs": [
    {
     "data": {
      "text/html": [
       "<div>\n",
       "<table border=\"1\" class=\"dataframe\">\n",
       "  <thead>\n",
       "    <tr>\n",
       "      <th>PLIF</th>\n",
       "      <th>0.0</th>\n",
       "      <th>1.0</th>\n",
       "    </tr>\n",
       "    <tr>\n",
       "      <th>ALIF</th>\n",
       "      <th>1.0</th>\n",
       "      <th>0.0</th>\n",
       "    </tr>\n",
       "    <tr>\n",
       "      <th>ileus_NPOA</th>\n",
       "      <th></th>\n",
       "      <th></th>\n",
       "    </tr>\n",
       "  </thead>\n",
       "  <tbody>\n",
       "    <tr>\n",
       "      <th>0.0</th>\n",
       "      <td>0.924376</td>\n",
       "      <td>0.975932</td>\n",
       "    </tr>\n",
       "    <tr>\n",
       "      <th>1.0</th>\n",
       "      <td>0.075624</td>\n",
       "      <td>0.024068</td>\n",
       "    </tr>\n",
       "  </tbody>\n",
       "</table>\n",
       "</div>"
      ],
      "text/plain": [
       "PLIF             0.0       1.0\n",
       "ALIF             1.0       0.0\n",
       "ileus_NPOA                    \n",
       "0.0         0.924376  0.975932\n",
       "1.0         0.075624  0.024068"
      ]
     },
     "execution_count": 87,
     "metadata": {},
     "output_type": "execute_result"
    }
   ],
   "source": [
    "pd.crosstab(CADataSub.ileus_NPOA, [CADataSub.PLIF, CADataSub.ALIF]).apply(lambda x: x/x.sum(),0)"
   ]
  },
  {
   "cell_type": "code",
   "execution_count": 88,
   "metadata": {
    "collapsed": false
   },
   "outputs": [
    {
     "name": "stdout",
     "output_type": "stream",
     "text": [
      "p-value:  9.09637200815e-118\n"
     ]
    }
   ],
   "source": [
    "#Let us test using a ChiSq to check if the difference is significant:\n",
    "p_val = stats.chi2_contingency(ct_PvA)[1]\n",
    "print \"p-value: \", p_val#The p-value indicates the difference is significant."
   ]
  },
  {
   "cell_type": "code",
   "execution_count": 111,
   "metadata": {
    "collapsed": false
   },
   "outputs": [
    {
     "name": "stdout",
     "output_type": "stream",
     "text": [
      "T-test:  Ttest_indResult(statistic=-23.235346257276511, pvalue=1.06912758230179e-118)\n"
     ]
    }
   ],
   "source": [
    "# t-test:\n",
    "\n",
    "ttest_results = stats.ttest_ind(CADataSub[CADataSub.PLIF == 1.0].ileus_NPOA, CADataSub[CADataSub.PLIF != 1.0].ileus_NPOA)\n",
    "\n",
    "print \"T-test: \", ttest_results"
   ]
  },
  {
   "cell_type": "code",
   "execution_count": 92,
   "metadata": {
    "collapsed": false
   },
   "outputs": [
    {
     "data": {
      "text/html": [
       "<div>\n",
       "<table border=\"1\" class=\"dataframe\">\n",
       "  <thead>\n",
       "    <tr style=\"text-align: right;\">\n",
       "      <th></th>\n",
       "      <th>ileus_NPOA</th>\n",
       "      <th>ALIF</th>\n",
       "      <th>LOS</th>\n",
       "    </tr>\n",
       "    <tr>\n",
       "      <th>PLIF</th>\n",
       "      <th></th>\n",
       "      <th></th>\n",
       "      <th></th>\n",
       "    </tr>\n",
       "  </thead>\n",
       "  <tbody>\n",
       "    <tr>\n",
       "      <th>0.0</th>\n",
       "      <td>1.0</td>\n",
       "      <td>1.0</td>\n",
       "      <td>6.0</td>\n",
       "    </tr>\n",
       "    <tr>\n",
       "      <th>1.0</th>\n",
       "      <td>1.0</td>\n",
       "      <td>0.0</td>\n",
       "      <td>6.0</td>\n",
       "    </tr>\n",
       "  </tbody>\n",
       "</table>\n",
       "</div>"
      ],
      "text/plain": [
       "      ileus_NPOA  ALIF  LOS\n",
       "PLIF                       \n",
       "0.0          1.0   1.0  6.0\n",
       "1.0          1.0   0.0  6.0"
      ]
     },
     "execution_count": 92,
     "metadata": {},
     "output_type": "execute_result"
    }
   ],
   "source": [
    "#Within that, of those who got ileuses from ALIF and PLIF surgeries, were those ileuses more severe?\n",
    "\n",
    "CADataSub_haveileus = CADataSub[CADataSub['ileus_NPOA'] == 1]\n",
    "CADataSub_haveileus[['ileus_NPOA', 'PLIF', 'ALIF', 'LOS']].groupby('PLIF').aggregate(np.median)\n"
   ]
  },
  {
   "cell_type": "code",
   "execution_count": 93,
   "metadata": {
    "collapsed": false
   },
   "outputs": [
    {
     "data": {
      "text/html": [
       "<div>\n",
       "<table border=\"1\" class=\"dataframe\">\n",
       "  <thead>\n",
       "    <tr style=\"text-align: right;\">\n",
       "      <th>PLIF</th>\n",
       "      <th>0.0</th>\n",
       "      <th>1.0</th>\n",
       "    </tr>\n",
       "    <tr>\n",
       "      <th>ALIF</th>\n",
       "      <th></th>\n",
       "      <th></th>\n",
       "    </tr>\n",
       "  </thead>\n",
       "  <tbody>\n",
       "    <tr>\n",
       "      <th>0.0</th>\n",
       "      <td>0</td>\n",
       "      <td>419</td>\n",
       "    </tr>\n",
       "    <tr>\n",
       "      <th>1.0</th>\n",
       "      <td>1957</td>\n",
       "      <td>0</td>\n",
       "    </tr>\n",
       "  </tbody>\n",
       "</table>\n",
       "</div>"
      ],
      "text/plain": [
       "PLIF   0.0  1.0\n",
       "ALIF           \n",
       "0.0      0  419\n",
       "1.0   1957    0"
      ]
     },
     "execution_count": 93,
     "metadata": {},
     "output_type": "execute_result"
    }
   ],
   "source": [
    "pd.crosstab(CADataSub_haveileus.ALIF, CADataSub_haveileus.PLIF)"
   ]
  },
  {
   "cell_type": "code",
   "execution_count": 133,
   "metadata": {
    "collapsed": false
   },
   "outputs": [
    {
     "data": {
      "text/plain": [
       "<matplotlib.axes._subplots.AxesSubplot at 0x68660dd8>"
      ]
     },
     "execution_count": 133,
     "metadata": {},
     "output_type": "execute_result"
    },
    {
     "data": {
      "image/png": "[encoded data removed]",
      "text/plain": [
       "<matplotlib.figure.Figure at 0x686403c8>"
      ]
     },
     "metadata": {},
     "output_type": "display_data"
    }
   ],
   "source": [
    "#Look at the difference in distributions between LOS by surgery\n",
    "\n",
    "#Remove LOS outliers from our subset data\n",
    "CADataSub_haveileus_nolosoutliers = CADataSub_haveileus[np.abs(CADataSub_haveileus.LOS-CADataSub_haveileus.LOS.mean())<=(3*CADataSub_haveileus.LOS.std())]\n",
    "\n",
    "#plot as a boxplot\n",
    "#note that PLIF = 0 is the equivalent of ALIF = 1 in this subset data\n",
    "CADataSub_haveileus_nolosoutliers.boxplot(column = \"LOS\", by= \"PLIF\")\n",
    "\n"
   ]
  },
  {
   "cell_type": "markdown",
   "metadata": {},
   "source": [
    "#### 4) Does length of Fusion (Long vs Short) has an impact on ILEUS?"
   ]
  },
  {
   "cell_type": "code",
   "execution_count": 112,
   "metadata": {
    "collapsed": false
   },
   "outputs": [
    {
     "data": {
      "text/plain": [
       "(195694, 22)"
      ]
     },
     "execution_count": 112,
     "metadata": {},
     "output_type": "execute_result"
    }
   ],
   "source": [
    "# Repeating a similar procedure as question 3\n",
    "CADataSub = CAData[(CAData.LONG == 1) | (CAData.SHORT==1)]; CADataSub.shape #we have 195K cases"
   ]
  },
  {
   "cell_type": "code",
   "execution_count": 113,
   "metadata": {
    "collapsed": false
   },
   "outputs": [
    {
     "data": {
      "text/plain": [
       "4772"
      ]
     },
     "execution_count": 113,
     "metadata": {},
     "output_type": "execute_result"
    }
   ],
   "source": [
    "np.sum(CADataSub.LONG == CADataSub.SHORT)"
   ]
  },
  {
   "cell_type": "code",
   "execution_count": 114,
   "metadata": {
    "collapsed": false
   },
   "outputs": [
    {
     "name": "stderr",
     "output_type": "stream",
     "text": [
      "C:\\Anaconda2\\lib\\site-packages\\ipykernel\\__main__.py:2: UserWarning: Boolean Series key will be reindexed to match DataFrame index.\n",
      "  from ipykernel import kernelapp as app\n"
     ]
    },
    {
     "data": {
      "text/plain": [
       "(190922, 22)"
      ]
     },
     "execution_count": 114,
     "metadata": {},
     "output_type": "execute_result"
    }
   ],
   "source": [
    "#however there are 4772 cases where ALIF and PLIF are both True. \n",
    "CADataSub = CADataSub[(CAData.LONG + CAData.SHORT) ==1]; CADataSub.shape #all such cases are removed"
   ]
  },
  {
   "cell_type": "code",
   "execution_count": 115,
   "metadata": {
    "collapsed": false
   },
   "outputs": [
    {
     "data": {
      "text/html": [
       "<div>\n",
       "<table border=\"1\" class=\"dataframe\">\n",
       "  <thead>\n",
       "    <tr>\n",
       "      <th>LONG</th>\n",
       "      <th>0.0</th>\n",
       "      <th>1.0</th>\n",
       "    </tr>\n",
       "    <tr>\n",
       "      <th>SHORT</th>\n",
       "      <th>1.0</th>\n",
       "      <th>0.0</th>\n",
       "    </tr>\n",
       "    <tr>\n",
       "      <th>ileus_NPOA</th>\n",
       "      <th></th>\n",
       "      <th></th>\n",
       "    </tr>\n",
       "  </thead>\n",
       "  <tbody>\n",
       "    <tr>\n",
       "      <th>0.0</th>\n",
       "      <td>150233</td>\n",
       "      <td>35873</td>\n",
       "    </tr>\n",
       "    <tr>\n",
       "      <th>1.0</th>\n",
       "      <td>3465</td>\n",
       "      <td>1351</td>\n",
       "    </tr>\n",
       "  </tbody>\n",
       "</table>\n",
       "</div>"
      ],
      "text/plain": [
       "LONG           0.0    1.0\n",
       "SHORT          1.0    0.0\n",
       "ileus_NPOA               \n",
       "0.0         150233  35873\n",
       "1.0           3465   1351"
      ]
     },
     "execution_count": 115,
     "metadata": {},
     "output_type": "execute_result"
    }
   ],
   "source": [
    "# We now look at a contingency table for both these cases\n",
    "ct_LvS = pd.crosstab(CADataSub.ileus_NPOA, [CADataSub.LONG, CADataSub.SHORT]); ct_LvS#just the counts"
   ]
  },
  {
   "cell_type": "code",
   "execution_count": 116,
   "metadata": {
    "collapsed": false
   },
   "outputs": [
    {
     "data": {
      "text/html": [
       "<div>\n",
       "<table border=\"1\" class=\"dataframe\">\n",
       "  <thead>\n",
       "    <tr>\n",
       "      <th>LONG</th>\n",
       "      <th>0.0</th>\n",
       "      <th>1.0</th>\n",
       "    </tr>\n",
       "    <tr>\n",
       "      <th>SHORT</th>\n",
       "      <th>1.0</th>\n",
       "      <th>0.0</th>\n",
       "    </tr>\n",
       "    <tr>\n",
       "      <th>ileus_NPOA</th>\n",
       "      <th></th>\n",
       "      <th></th>\n",
       "    </tr>\n",
       "  </thead>\n",
       "  <tbody>\n",
       "    <tr>\n",
       "      <th>0.0</th>\n",
       "      <td>0.977456</td>\n",
       "      <td>0.963706</td>\n",
       "    </tr>\n",
       "    <tr>\n",
       "      <th>1.0</th>\n",
       "      <td>0.022544</td>\n",
       "      <td>0.036294</td>\n",
       "    </tr>\n",
       "  </tbody>\n",
       "</table>\n",
       "</div>"
      ],
      "text/plain": [
       "LONG             0.0       1.0\n",
       "SHORT            1.0       0.0\n",
       "ileus_NPOA                    \n",
       "0.0         0.977456  0.963706\n",
       "1.0         0.022544  0.036294"
      ]
     },
     "execution_count": 116,
     "metadata": {},
     "output_type": "execute_result"
    }
   ],
   "source": [
    "pd.crosstab(CADataSub.ileus_NPOA, [CADataSub.LONG, CADataSub.SHORT]).apply(lambda x: x/x.sum(),0)"
   ]
  },
  {
   "cell_type": "code",
   "execution_count": 117,
   "metadata": {
    "collapsed": false
   },
   "outputs": [
    {
     "name": "stdout",
     "output_type": "stream",
     "text": [
      "p-value:  6.46198767113e-52\n"
     ]
    }
   ],
   "source": [
    "# We perform a chi-sq test\n",
    "\n",
    "p_val = stats.chi2_contingency(ct_LvS)[1]\n",
    "print \"p-value: \", p_val#The p-value indicates the difference is significant. However, the difference is quite small."
   ]
  },
  {
   "cell_type": "code",
   "execution_count": 118,
   "metadata": {
    "collapsed": false
   },
   "outputs": [
    {
     "name": "stdout",
     "output_type": "stream",
     "text": [
      "T-test:  Ttest_indResult(statistic=15.187961528409218, pvalue=4.5584220040467011e-52)\n"
     ]
    }
   ],
   "source": [
    "#T-test:\n",
    "\n",
    "ttest_results = stats.ttest_ind(CADataSub[CADataSub.LONG == 1.0].ileus_NPOA, CADataSub[CADataSub.LONG != 1.0].ileus_NPOA)\n",
    "\n",
    "print \"T-test: \", ttest_results"
   ]
  },
  {
   "cell_type": "markdown",
   "metadata": {},
   "source": [
    "#### 5) Does ILEUS affect LOS?"
   ]
  },
  {
   "cell_type": "code",
   "execution_count": 39,
   "metadata": {
    "collapsed": false
   },
   "outputs": [
    {
     "data": {
      "image/png": "[encoded data removed]",
      "text/plain": [
       "<matplotlib.figure.Figure at 0x156a9e10>"
      ]
     },
     "metadata": {},
     "output_type": "display_data"
    }
   ],
   "source": [
    "# Let us look at the distribution of LOS by different ILEUS categories\n",
    "CAData[CAData.ileus_NPOA == 0.].LOS.plot('hist', xlim=(0,50), bins = 100) #zooming in to avoid outliers\n",
    "plt.title('Histogram of LOS when ileus_NPOA = 0'); plt.show()"
   ]
  },
  {
   "cell_type": "code",
   "execution_count": 38,
   "metadata": {
    "collapsed": false
   },
   "outputs": [
    {
     "data": {
      "image/png": "[encoded data removed]",
      "text/plain": [
       "<matplotlib.figure.Figure at 0xa6e6358>"
      ]
     },
     "metadata": {},
     "output_type": "display_data"
    }
   ],
   "source": [
    "CAData[CAData.ileus_NPOA == 1.].LOS.plot('hist', xlim=(0,50), bins = 100) #zooming in to avoid outliers\n",
    "plt.title('Histogram of LOS when ileus_NPOA = 1'); plt.show()"
   ]
  },
  {
   "cell_type": "code",
   "execution_count": 40,
   "metadata": {
    "collapsed": false
   },
   "outputs": [
    {
     "name": "stdout",
     "output_type": "stream",
     "text": [
      "The median LOS of ileus_NPOA = 0 is  3.0\n",
      "The median LOS of ileus_NPOA = 1 is  6.0\n"
     ]
    }
   ],
   "source": [
    "group1_LOS =  CAData[CAData.ileus_NPOA == 0.].LOS\n",
    "group2_LOS =  CAData[CAData.ileus_NPOA == 1.].LOS\n",
    "print \"The median LOS of ileus_NPOA = 0 is \", group1_LOS.median()\n",
    "print \"The median LOS of ileus_NPOA = 1 is \", group2_LOS.median()"
   ]
  },
  {
   "cell_type": "code",
   "execution_count": 41,
   "metadata": {
    "collapsed": false
   },
   "outputs": [
    {
     "name": "stdout",
     "output_type": "stream",
     "text": [
      "p-value:  0.0\n"
     ]
    }
   ],
   "source": [
    "#Are hospital stays for those w/ ilesuses longer?\n",
    "#Using the Wilcox rank-sum statistic (link: http://docs.scipy.org/doc/scipy/reference/generated/scipy.stats.ranksums.html)\n",
    "z_stat, p_val = stats.ranksums(group1_LOS, group2_LOS)\n",
    "print \"p-value: \", p_val  #Test is significant --> The LOS of the ILEUS group is higher than the non-ILEUS group"
   ]
  },
  {
   "cell_type": "code",
   "execution_count": 139,
   "metadata": {
    "collapsed": false
   },
   "outputs": [
    {
     "data": {
      "text/html": [
       "<div>\n",
       "<table border=\"1\" class=\"dataframe\">\n",
       "  <thead>\n",
       "    <tr>\n",
       "      <th>PLIF</th>\n",
       "      <th colspan=\"8\" halign=\"left\">0.0</th>\n",
       "      <th colspan=\"4\" halign=\"left\">1.0</th>\n",
       "    </tr>\n",
       "    <tr>\n",
       "      <th>ALIF</th>\n",
       "      <th colspan=\"4\" halign=\"left\">0.0</th>\n",
       "      <th colspan=\"4\" halign=\"left\">1.0</th>\n",
       "      <th colspan=\"2\" halign=\"left\">0.0</th>\n",
       "      <th colspan=\"2\" halign=\"left\">1.0</th>\n",
       "    </tr>\n",
       "    <tr>\n",
       "      <th>LONG</th>\n",
       "      <th colspan=\"2\" halign=\"left\">0.0</th>\n",
       "      <th colspan=\"2\" halign=\"left\">1.0</th>\n",
       "      <th colspan=\"2\" halign=\"left\">0.0</th>\n",
       "      <th colspan=\"2\" halign=\"left\">1.0</th>\n",
       "      <th>0.0</th>\n",
       "      <th>1.0</th>\n",
       "      <th>0.0</th>\n",
       "      <th>1.0</th>\n",
       "    </tr>\n",
       "    <tr>\n",
       "      <th>SHORT</th>\n",
       "      <th>0.0</th>\n",
       "      <th>1.0</th>\n",
       "      <th>0.0</th>\n",
       "      <th>1.0</th>\n",
       "      <th>0.0</th>\n",
       "      <th>1.0</th>\n",
       "      <th>0.0</th>\n",
       "      <th>1.0</th>\n",
       "      <th>1.0</th>\n",
       "      <th>1.0</th>\n",
       "      <th>1.0</th>\n",
       "      <th>1.0</th>\n",
       "    </tr>\n",
       "    <tr>\n",
       "      <th>ileus_NPOA</th>\n",
       "      <th></th>\n",
       "      <th></th>\n",
       "      <th></th>\n",
       "      <th></th>\n",
       "      <th></th>\n",
       "      <th></th>\n",
       "      <th></th>\n",
       "      <th></th>\n",
       "      <th></th>\n",
       "      <th></th>\n",
       "      <th></th>\n",
       "      <th></th>\n",
       "    </tr>\n",
       "  </thead>\n",
       "  <tbody>\n",
       "    <tr>\n",
       "      <th>0.0</th>\n",
       "      <td>7.253793</td>\n",
       "      <td>3.908715</td>\n",
       "      <td>7.101853</td>\n",
       "      <td>18.024793</td>\n",
       "      <td>7.765217</td>\n",
       "      <td>4.536553</td>\n",
       "      <td>7.430272</td>\n",
       "      <td>11.309677</td>\n",
       "      <td>4.292542</td>\n",
       "      <td>5.872324</td>\n",
       "      <td>4.693062</td>\n",
       "      <td>7.083851</td>\n",
       "    </tr>\n",
       "    <tr>\n",
       "      <th>1.0</th>\n",
       "      <td>14.394737</td>\n",
       "      <td>10.043272</td>\n",
       "      <td>14.417411</td>\n",
       "      <td>23.852941</td>\n",
       "      <td>26.750000</td>\n",
       "      <td>6.502833</td>\n",
       "      <td>9.630769</td>\n",
       "      <td>14.442857</td>\n",
       "      <td>8.035370</td>\n",
       "      <td>10.351852</td>\n",
       "      <td>6.623574</td>\n",
       "      <td>9.119266</td>\n",
       "    </tr>\n",
       "  </tbody>\n",
       "</table>\n",
       "</div>"
      ],
      "text/plain": [
       "PLIF              0.0                                                        \\\n",
       "ALIF              0.0                                         1.0             \n",
       "LONG              0.0                   1.0                   0.0             \n",
       "SHORT             0.0        1.0        0.0        1.0        0.0       1.0   \n",
       "ileus_NPOA                                                                    \n",
       "0.0          7.253793   3.908715   7.101853  18.024793   7.765217  4.536553   \n",
       "1.0         14.394737  10.043272  14.417411  23.852941  26.750000  6.502833   \n",
       "\n",
       "PLIF                                  1.0                                 \n",
       "ALIF                                  0.0                  1.0            \n",
       "LONG             1.0                  0.0        1.0       0.0       1.0  \n",
       "SHORT            0.0        1.0       1.0        1.0       1.0       1.0  \n",
       "ileus_NPOA                                                                \n",
       "0.0         7.430272  11.309677  4.292542   5.872324  4.693062  7.083851  \n",
       "1.0         9.630769  14.442857  8.035370  10.351852  6.623574  9.119266  "
      ]
     },
     "execution_count": 139,
     "metadata": {},
     "output_type": "execute_result"
    }
   ],
   "source": [
    "#Within that, are there differences in length-of-stay based on the surgery related to the ileus\n",
    "\n",
    "#crosstab\n",
    "pd.crosstab(CAData.ileus_NPOA, [CAData.PLIF, CAData.ALIF, CAData.LONG, CAData.SHORT], values = CAData.LOS, aggfunc = \"mean\")"
   ]
  },
  {
   "cell_type": "code",
   "execution_count": 144,
   "metadata": {
    "collapsed": false
   },
   "outputs": [
    {
     "data": {
      "text/html": [
       "<div>\n",
       "<table border=\"1\" class=\"dataframe\">\n",
       "  <thead>\n",
       "    <tr>\n",
       "      <th>PLIF</th>\n",
       "      <th colspan=\"8\" halign=\"left\">0.0</th>\n",
       "      <th colspan=\"4\" halign=\"left\">1.0</th>\n",
       "    </tr>\n",
       "    <tr>\n",
       "      <th>ALIF</th>\n",
       "      <th colspan=\"4\" halign=\"left\">0.0</th>\n",
       "      <th colspan=\"4\" halign=\"left\">1.0</th>\n",
       "      <th colspan=\"2\" halign=\"left\">0.0</th>\n",
       "      <th colspan=\"2\" halign=\"left\">1.0</th>\n",
       "    </tr>\n",
       "    <tr>\n",
       "      <th>LONG</th>\n",
       "      <th colspan=\"2\" halign=\"left\">0.0</th>\n",
       "      <th colspan=\"2\" halign=\"left\">1.0</th>\n",
       "      <th colspan=\"2\" halign=\"left\">0.0</th>\n",
       "      <th colspan=\"2\" halign=\"left\">1.0</th>\n",
       "      <th>0.0</th>\n",
       "      <th>1.0</th>\n",
       "      <th>0.0</th>\n",
       "      <th>1.0</th>\n",
       "    </tr>\n",
       "    <tr>\n",
       "      <th>SHORT</th>\n",
       "      <th>0.0</th>\n",
       "      <th>1.0</th>\n",
       "      <th>0.0</th>\n",
       "      <th>1.0</th>\n",
       "      <th>0.0</th>\n",
       "      <th>1.0</th>\n",
       "      <th>0.0</th>\n",
       "      <th>1.0</th>\n",
       "      <th>1.0</th>\n",
       "      <th>1.0</th>\n",
       "      <th>1.0</th>\n",
       "      <th>1.0</th>\n",
       "    </tr>\n",
       "    <tr>\n",
       "      <th>ileus_NPOA</th>\n",
       "      <th></th>\n",
       "      <th></th>\n",
       "      <th></th>\n",
       "      <th></th>\n",
       "      <th></th>\n",
       "      <th></th>\n",
       "      <th></th>\n",
       "      <th></th>\n",
       "      <th></th>\n",
       "      <th></th>\n",
       "      <th></th>\n",
       "      <th></th>\n",
       "    </tr>\n",
       "  </thead>\n",
       "  <tbody>\n",
       "    <tr>\n",
       "      <th>0.0</th>\n",
       "      <td>0.984659</td>\n",
       "      <td>0.987111</td>\n",
       "      <td>0.973247</td>\n",
       "      <td>0.955263</td>\n",
       "      <td>0.945205</td>\n",
       "      <td>0.93354</td>\n",
       "      <td>0.878081</td>\n",
       "      <td>0.869159</td>\n",
       "      <td>0.978822</td>\n",
       "      <td>0.960352</td>\n",
       "      <td>0.912798</td>\n",
       "      <td>0.855246</td>\n",
       "    </tr>\n",
       "    <tr>\n",
       "      <th>1.0</th>\n",
       "      <td>0.015341</td>\n",
       "      <td>0.012889</td>\n",
       "      <td>0.026753</td>\n",
       "      <td>0.044737</td>\n",
       "      <td>0.054795</td>\n",
       "      <td>0.06646</td>\n",
       "      <td>0.121919</td>\n",
       "      <td>0.130841</td>\n",
       "      <td>0.021178</td>\n",
       "      <td>0.039648</td>\n",
       "      <td>0.087202</td>\n",
       "      <td>0.144754</td>\n",
       "    </tr>\n",
       "  </tbody>\n",
       "</table>\n",
       "</div>"
      ],
      "text/plain": [
       "PLIF             0.0                                                   \\\n",
       "ALIF             0.0                                     1.0            \n",
       "LONG             0.0                 1.0                 0.0            \n",
       "SHORT            0.0       1.0       0.0       1.0       0.0      1.0   \n",
       "ileus_NPOA                                                              \n",
       "0.0         0.984659  0.987111  0.973247  0.955263  0.945205  0.93354   \n",
       "1.0         0.015341  0.012889  0.026753  0.044737  0.054795  0.06646   \n",
       "\n",
       "PLIF                                 1.0                                \n",
       "ALIF                                 0.0                 1.0            \n",
       "LONG             1.0                 0.0       1.0       0.0       1.0  \n",
       "SHORT            0.0       1.0       1.0       1.0       1.0       1.0  \n",
       "ileus_NPOA                                                              \n",
       "0.0         0.878081  0.869159  0.978822  0.960352  0.912798  0.855246  \n",
       "1.0         0.121919  0.130841  0.021178  0.039648  0.087202  0.144754  "
      ]
     },
     "execution_count": 144,
     "metadata": {},
     "output_type": "execute_result"
    }
   ],
   "source": [
    "pd.crosstab(CAData.ileus_NPOA, [CAData.PLIF, CAData.ALIF, CAData.LONG, CAData.SHORT]).apply(lambda x: x/x.sum(), 0)"
   ]
  },
  {
   "cell_type": "markdown",
   "metadata": {},
   "source": [
    "#### 6) Does ILEUS affect death?"
   ]
  },
  {
   "cell_type": "code",
   "execution_count": 119,
   "metadata": {
    "collapsed": false
   },
   "outputs": [
    {
     "data": {
      "text/html": [
       "<div>\n",
       "<table border=\"1\" class=\"dataframe\">\n",
       "  <thead>\n",
       "    <tr style=\"text-align: right;\">\n",
       "      <th>ileus_NPOA</th>\n",
       "      <th>0.0</th>\n",
       "      <th>1.0</th>\n",
       "    </tr>\n",
       "    <tr>\n",
       "      <th>DIED</th>\n",
       "      <th></th>\n",
       "      <th></th>\n",
       "    </tr>\n",
       "  </thead>\n",
       "  <tbody>\n",
       "    <tr>\n",
       "      <th>0.0</th>\n",
       "      <td>192640</td>\n",
       "      <td>5137</td>\n",
       "    </tr>\n",
       "    <tr>\n",
       "      <th>1.0</th>\n",
       "      <td>701</td>\n",
       "      <td>58</td>\n",
       "    </tr>\n",
       "  </tbody>\n",
       "</table>\n",
       "</div>"
      ],
      "text/plain": [
       "ileus_NPOA     0.0   1.0\n",
       "DIED                    \n",
       "0.0         192640  5137\n",
       "1.0            701    58"
      ]
     },
     "execution_count": 119,
     "metadata": {},
     "output_type": "execute_result"
    }
   ],
   "source": [
    "ct_DIED = pd.crosstab(CAData.DIED, CAData.ileus_NPOA); ct_DIED#just the counts "
   ]
  },
  {
   "cell_type": "code",
   "execution_count": 120,
   "metadata": {
    "collapsed": false
   },
   "outputs": [
    {
     "data": {
      "text/html": [
       "<div>\n",
       "<table border=\"1\" class=\"dataframe\">\n",
       "  <thead>\n",
       "    <tr style=\"text-align: right;\">\n",
       "      <th>ileus_NPOA</th>\n",
       "      <th>0.0</th>\n",
       "      <th>1.0</th>\n",
       "    </tr>\n",
       "    <tr>\n",
       "      <th>DIED</th>\n",
       "      <th></th>\n",
       "      <th></th>\n",
       "    </tr>\n",
       "  </thead>\n",
       "  <tbody>\n",
       "    <tr>\n",
       "      <th>0.0</th>\n",
       "      <td>0.996374</td>\n",
       "      <td>0.988835</td>\n",
       "    </tr>\n",
       "    <tr>\n",
       "      <th>1.0</th>\n",
       "      <td>0.003626</td>\n",
       "      <td>0.011165</td>\n",
       "    </tr>\n",
       "  </tbody>\n",
       "</table>\n",
       "</div>"
      ],
      "text/plain": [
       "ileus_NPOA       0.0       1.0\n",
       "DIED                          \n",
       "0.0         0.996374  0.988835\n",
       "1.0         0.003626  0.011165"
      ]
     },
     "execution_count": 120,
     "metadata": {},
     "output_type": "execute_result"
    }
   ],
   "source": [
    "pd.crosstab(CAData.DIED, CAData.ileus_NPOA).apply(lambda x: x/x.sum(),0)"
   ]
  },
  {
   "cell_type": "code",
   "execution_count": 44,
   "metadata": {
    "collapsed": false
   },
   "outputs": [
    {
     "name": "stdout",
     "output_type": "stream",
     "text": [
      "p-value:  9.89814701517e-18\n"
     ]
    }
   ],
   "source": [
    "# performing a ChiSq test\n",
    "p_val = stats.chi2_contingency(ct_DIED)[1]\n",
    "print \"p-value: \", p_val #The p-value indicates the difference is significant."
   ]
  },
  {
   "cell_type": "code",
   "execution_count": 121,
   "metadata": {
    "collapsed": false
   },
   "outputs": [
    {
     "name": "stdout",
     "output_type": "stream",
     "text": [
      "T-test:  Ttest_indResult(statistic=8.6906421576535191, pvalue=3.6306259235453461e-18)\n"
     ]
    }
   ],
   "source": [
    "# t-test:\n",
    "\n",
    "ttest_results = stats.ttest_ind(CAData[CAData.ileus_NPOA == 1.0].DIED, CAData[CAData.ileus_NPOA != 1.0].DIED)\n",
    "\n",
    "print \"T-test: \", ttest_results"
   ]
  },
  {
   "cell_type": "markdown",
   "metadata": {},
   "source": [
    "#### 7) Does ILEUS affect PE? (On hold for now, not in dataset)"
   ]
  },
  {
   "cell_type": "code",
   "execution_count": null,
   "metadata": {
    "collapsed": true
   },
   "outputs": [],
   "source": []
  },
  {
   "cell_type": "markdown",
   "metadata": {},
   "source": [
    "#### 8) Does ILEUS affect DVT?"
   ]
  },
  {
   "cell_type": "code",
   "execution_count": 122,
   "metadata": {
    "collapsed": false
   },
   "outputs": [
    {
     "data": {
      "text/html": [
       "<div>\n",
       "<table border=\"1\" class=\"dataframe\">\n",
       "  <thead>\n",
       "    <tr style=\"text-align: right;\">\n",
       "      <th>ileus_NPOA</th>\n",
       "      <th>0.0</th>\n",
       "      <th>1.0</th>\n",
       "    </tr>\n",
       "    <tr>\n",
       "      <th>DVT_NPOA</th>\n",
       "      <th></th>\n",
       "      <th></th>\n",
       "    </tr>\n",
       "  </thead>\n",
       "  <tbody>\n",
       "    <tr>\n",
       "      <th>0.0</th>\n",
       "      <td>192721</td>\n",
       "      <td>5098</td>\n",
       "    </tr>\n",
       "    <tr>\n",
       "      <th>1.0</th>\n",
       "      <td>620</td>\n",
       "      <td>97</td>\n",
       "    </tr>\n",
       "  </tbody>\n",
       "</table>\n",
       "</div>"
      ],
      "text/plain": [
       "ileus_NPOA     0.0   1.0\n",
       "DVT_NPOA                \n",
       "0.0         192721  5098\n",
       "1.0            620    97"
      ]
     },
     "execution_count": 122,
     "metadata": {},
     "output_type": "execute_result"
    }
   ],
   "source": [
    "ct_dvt = pd.crosstab(CAData.DVT_NPOA, CAData.ileus_NPOA); ct_dvt"
   ]
  },
  {
   "cell_type": "code",
   "execution_count": 123,
   "metadata": {
    "collapsed": false
   },
   "outputs": [
    {
     "data": {
      "text/html": [
       "<div>\n",
       "<table border=\"1\" class=\"dataframe\">\n",
       "  <thead>\n",
       "    <tr style=\"text-align: right;\">\n",
       "      <th>ileus_NPOA</th>\n",
       "      <th>0.0</th>\n",
       "      <th>1.0</th>\n",
       "    </tr>\n",
       "    <tr>\n",
       "      <th>DVT_NPOA</th>\n",
       "      <th></th>\n",
       "      <th></th>\n",
       "    </tr>\n",
       "  </thead>\n",
       "  <tbody>\n",
       "    <tr>\n",
       "      <th>0.0</th>\n",
       "      <td>0.996793</td>\n",
       "      <td>0.981328</td>\n",
       "    </tr>\n",
       "    <tr>\n",
       "      <th>1.0</th>\n",
       "      <td>0.003207</td>\n",
       "      <td>0.018672</td>\n",
       "    </tr>\n",
       "  </tbody>\n",
       "</table>\n",
       "</div>"
      ],
      "text/plain": [
       "ileus_NPOA       0.0       1.0\n",
       "DVT_NPOA                      \n",
       "0.0         0.996793  0.981328\n",
       "1.0         0.003207  0.018672"
      ]
     },
     "execution_count": 123,
     "metadata": {},
     "output_type": "execute_result"
    }
   ],
   "source": [
    "#Look at proportions: did people who developed ileuses also develop DVT?\n",
    "ct_dvt.apply(lambda x: x/x.sum(), 0)"
   ]
  },
  {
   "cell_type": "code",
   "execution_count": 124,
   "metadata": {
    "collapsed": false
   },
   "outputs": [
    {
     "name": "stdout",
     "output_type": "stream",
     "text": [
      "p-value:  3.5846778343e-74\n"
     ]
    }
   ],
   "source": [
    "#Is this significant?\n",
    "p_val = stats.chi2_contingency(ct_dvt)[1]\n",
    "print \"p-value: \", p_val #The p-value indicates the difference is significant.\n",
    "#DVT is rare in both cases, though"
   ]
  },
  {
   "cell_type": "code",
   "execution_count": 126,
   "metadata": {
    "collapsed": false
   },
   "outputs": [
    {
     "name": "stdout",
     "output_type": "stream",
     "text": [
      "T-test:  Ttest_indResult(statistic=18.352596993817269, pvalue=3.6328009265887671e-75)\n"
     ]
    }
   ],
   "source": [
    "#t-test\n",
    "\n",
    "ttest_results = stats.ttest_ind(CAData[CAData.ileus_NPOA == 1.0].DVT_NPOA, CAData[CAData.ileus_NPOA != 1.0].DVT_NPOA)\n",
    "\n",
    "print \"T-test: \", ttest_results"
   ]
  },
  {
   "cell_type": "markdown",
   "metadata": {},
   "source": [
    "#### 9) Does ILEUS affect MI (heart attack)?"
   ]
  },
  {
   "cell_type": "code",
   "execution_count": 48,
   "metadata": {
    "collapsed": false
   },
   "outputs": [
    {
     "data": {
      "text/html": [
       "<div>\n",
       "<table border=\"1\" class=\"dataframe\">\n",
       "  <thead>\n",
       "    <tr style=\"text-align: right;\">\n",
       "      <th>ileus_NPOA</th>\n",
       "      <th>0.0</th>\n",
       "      <th>1.0</th>\n",
       "    </tr>\n",
       "    <tr>\n",
       "      <th>MI_NPOA</th>\n",
       "      <th></th>\n",
       "      <th></th>\n",
       "    </tr>\n",
       "  </thead>\n",
       "  <tbody>\n",
       "    <tr>\n",
       "      <th>0.0</th>\n",
       "      <td>192823</td>\n",
       "      <td>5164</td>\n",
       "    </tr>\n",
       "    <tr>\n",
       "      <th>1.0</th>\n",
       "      <td>518</td>\n",
       "      <td>31</td>\n",
       "    </tr>\n",
       "  </tbody>\n",
       "</table>\n",
       "</div>"
      ],
      "text/plain": [
       "ileus_NPOA     0.0   1.0\n",
       "MI_NPOA                 \n",
       "0.0         192823  5164\n",
       "1.0            518    31"
      ]
     },
     "execution_count": 48,
     "metadata": {},
     "output_type": "execute_result"
    }
   ],
   "source": [
    "ct_mi = pd.crosstab(CAData.MI_NPOA, CAData.ileus_NPOA); ct_mi"
   ]
  },
  {
   "cell_type": "code",
   "execution_count": 49,
   "metadata": {
    "collapsed": false
   },
   "outputs": [
    {
     "data": {
      "text/html": [
       "<div>\n",
       "<table border=\"1\" class=\"dataframe\">\n",
       "  <thead>\n",
       "    <tr style=\"text-align: right;\">\n",
       "      <th>ileus_NPOA</th>\n",
       "      <th>0.0</th>\n",
       "      <th>1.0</th>\n",
       "    </tr>\n",
       "    <tr>\n",
       "      <th>MI_NPOA</th>\n",
       "      <th></th>\n",
       "      <th></th>\n",
       "    </tr>\n",
       "  </thead>\n",
       "  <tbody>\n",
       "    <tr>\n",
       "      <th>0.0</th>\n",
       "      <td>0.997321</td>\n",
       "      <td>0.994033</td>\n",
       "    </tr>\n",
       "    <tr>\n",
       "      <th>1.0</th>\n",
       "      <td>0.002679</td>\n",
       "      <td>0.005967</td>\n",
       "    </tr>\n",
       "  </tbody>\n",
       "</table>\n",
       "</div>"
      ],
      "text/plain": [
       "ileus_NPOA       0.0       1.0\n",
       "MI_NPOA                       \n",
       "0.0         0.997321  0.994033\n",
       "1.0         0.002679  0.005967"
      ]
     },
     "execution_count": 49,
     "metadata": {},
     "output_type": "execute_result"
    }
   ],
   "source": [
    "ct_mi.apply(lambda x: x/x.sum(), 0)"
   ]
  },
  {
   "cell_type": "code",
   "execution_count": 50,
   "metadata": {
    "collapsed": false
   },
   "outputs": [
    {
     "name": "stdout",
     "output_type": "stream",
     "text": [
      "p-value:  1.56217188474e-05\n"
     ]
    }
   ],
   "source": [
    "#Is this significant?\n",
    "p_val = stats.chi2_contingency(ct_mi)[1]\n",
    "print \"p-value: \", p_val #The p-value indicates the difference is significant.\n",
    "#DVT is very rare in both cases, though"
   ]
  },
  {
   "cell_type": "code",
   "execution_count": 127,
   "metadata": {
    "collapsed": false
   },
   "outputs": [
    {
     "name": "stdout",
     "output_type": "stream",
     "text": [
      "T-test:  Ttest_indResult(statistic=4.4538005268542502, pvalue=8.440943308200258e-06)\n"
     ]
    }
   ],
   "source": [
    "#ttest\n",
    "ttest_results = stats.ttest_ind(CAData[CAData.ileus_NPOA == 1.0].MI_NPOA, CAData[CAData.ileus_NPOA != 1.0].MI_NPOA)\n",
    "\n",
    "print \"T-test: \", ttest_results"
   ]
  },
  {
   "cell_type": "markdown",
   "metadata": {},
   "source": [
    "#### 10) Does ILEUS affect sepsis?"
   ]
  },
  {
   "cell_type": "code",
   "execution_count": 51,
   "metadata": {
    "collapsed": false
   },
   "outputs": [
    {
     "data": {
      "text/html": [
       "<div>\n",
       "<table border=\"1\" class=\"dataframe\">\n",
       "  <thead>\n",
       "    <tr style=\"text-align: right;\">\n",
       "      <th>ileus_NPOA</th>\n",
       "      <th>0.0</th>\n",
       "      <th>1.0</th>\n",
       "    </tr>\n",
       "    <tr>\n",
       "      <th>Sepsis_NPOA</th>\n",
       "      <th></th>\n",
       "      <th></th>\n",
       "    </tr>\n",
       "  </thead>\n",
       "  <tbody>\n",
       "    <tr>\n",
       "      <th>0.0</th>\n",
       "      <td>192435</td>\n",
       "      <td>5054</td>\n",
       "    </tr>\n",
       "    <tr>\n",
       "      <th>1.0</th>\n",
       "      <td>906</td>\n",
       "      <td>141</td>\n",
       "    </tr>\n",
       "  </tbody>\n",
       "</table>\n",
       "</div>"
      ],
      "text/plain": [
       "ileus_NPOA      0.0   1.0\n",
       "Sepsis_NPOA              \n",
       "0.0          192435  5054\n",
       "1.0             906   141"
      ]
     },
     "execution_count": 51,
     "metadata": {},
     "output_type": "execute_result"
    }
   ],
   "source": [
    "ct_sepsis = pd.crosstab(CAData.Sepsis_NPOA, CAData.ileus_NPOA); ct_sepsis"
   ]
  },
  {
   "cell_type": "code",
   "execution_count": 52,
   "metadata": {
    "collapsed": false
   },
   "outputs": [
    {
     "data": {
      "text/html": [
       "<div>\n",
       "<table border=\"1\" class=\"dataframe\">\n",
       "  <thead>\n",
       "    <tr style=\"text-align: right;\">\n",
       "      <th>ileus_NPOA</th>\n",
       "      <th>0.0</th>\n",
       "      <th>1.0</th>\n",
       "    </tr>\n",
       "    <tr>\n",
       "      <th>Sepsis_NPOA</th>\n",
       "      <th></th>\n",
       "      <th></th>\n",
       "    </tr>\n",
       "  </thead>\n",
       "  <tbody>\n",
       "    <tr>\n",
       "      <th>0.0</th>\n",
       "      <td>0.995314</td>\n",
       "      <td>0.972859</td>\n",
       "    </tr>\n",
       "    <tr>\n",
       "      <th>1.0</th>\n",
       "      <td>0.004686</td>\n",
       "      <td>0.027141</td>\n",
       "    </tr>\n",
       "  </tbody>\n",
       "</table>\n",
       "</div>"
      ],
      "text/plain": [
       "ileus_NPOA        0.0       1.0\n",
       "Sepsis_NPOA                    \n",
       "0.0          0.995314  0.972859\n",
       "1.0          0.004686  0.027141"
      ]
     },
     "execution_count": 52,
     "metadata": {},
     "output_type": "execute_result"
    }
   ],
   "source": [
    "ct_sepsis.apply(lambda x: x/x.sum(), 0)"
   ]
  },
  {
   "cell_type": "code",
   "execution_count": 53,
   "metadata": {
    "collapsed": false
   },
   "outputs": [
    {
     "name": "stdout",
     "output_type": "stream",
     "text": [
      "p-value:  1.56217188474e-05\n"
     ]
    }
   ],
   "source": [
    "#Is this significant?\n",
    "p_val = stats.chi2_contingency(ct_mi)[1]\n",
    "print \"p-value: \", p_val #The p-value indicates the difference is significant.\n",
    "#DVT is very rare in both cases, though"
   ]
  },
  {
   "cell_type": "code",
   "execution_count": 128,
   "metadata": {
    "collapsed": false
   },
   "outputs": [
    {
     "name": "stdout",
     "output_type": "stream",
     "text": [
      "T-test:  Ttest_indResult(statistic=22.079129488816758, pvalue=6.7715542306986301e-108)\n"
     ]
    }
   ],
   "source": [
    "#ttest\n",
    "ttest_results = stats.ttest_ind(CAData[CAData.ileus_NPOA == 1.0].Sepsis_NPOA, CAData[CAData.ileus_NPOA != 1.0].Sepsis_NPOA)\n",
    "\n",
    "print \"T-test: \", ttest_results"
   ]
  },
  {
   "cell_type": "markdown",
   "metadata": {
    "collapsed": true
   },
   "source": [
    "Questions to Answer:\n",
    "\n",
    "1) Is there higher rate of ILEUS for patients that undergo ALIF?\n",
    "\n",
    "2) Is there higher rate of ILEUS for patients that undergo PLIF?\n",
    "\n",
    "3) Is there higher rate of ILEUS for patients that undergo ALIF vs PLIF (as past studies have shown)?\n",
    "\n",
    "4) Does length of Fusion (Long vs Short) has an impact on ILEUS?\n",
    "\n",
    "5) Does ILEUS affect LOS?\n",
    "\n",
    "6) Does ILEUS affect death?\n",
    "\n",
    "7) Does ILEUS affect PE?\n",
    "\n",
    "8) Does ILEUS affect DVT?\n",
    "\n",
    "9) Does ILEUS affect MI?\n",
    "\n",
    "10) Does ILEUS affect sepsis?"
   ]
  },
  {
   "cell_type": "code",
   "execution_count": null,
   "metadata": {
    "collapsed": true
   },
   "outputs": [],
   "source": []
  }
 ],
 "metadata": {
  "kernelspec": {
   "display_name": "Python 2",
   "language": "python",
   "name": "python2"
  },
  "language_info": {
   "codemirror_mode": {
    "name": "ipython",
    "version": 2
   },
   "file_extension": ".py",
   "mimetype": "text/x-python",
   "name": "python",
   "nbconvert_exporter": "python",
   "pygments_lexer": "ipython2",
   "version": "2.7.11"
  }
 },
 "nbformat": 4,
 "nbformat_minor": 0
}
